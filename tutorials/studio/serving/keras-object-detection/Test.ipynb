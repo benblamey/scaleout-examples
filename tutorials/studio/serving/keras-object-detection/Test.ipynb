{
 "cells": [
  {
   "cell_type": "code",
   "execution_count": 42,
   "id": "adult-pantyhose",
   "metadata": {},
   "outputs": [],
   "source": [
    "import tensorflow as tf\n",
    "from tensorflow.keras.preprocessing import image\n",
    "from tensorflow.keras.applications.resnet50 import preprocess_input, decode_predictions\n",
    "import numpy as np\n",
    "import stackn.auth as sa\n",
    "import requests"
   ]
  },
  {
   "cell_type": "code",
   "execution_count": 43,
   "id": "collaborative-manufacturer",
   "metadata": {},
   "outputs": [],
   "source": [
    "img_path = 'cat.jpg'\n",
    "img = image.load_img(img_path, target_size=(299, 299))\n",
    "from tensorflow.keras.applications.xception import preprocess_input, decode_predictions\n",
    "x = image.img_to_array(img)\n",
    "x = np.expand_dims(x, axis=0)\n",
    "x = preprocess_input(x)"
   ]
  },
  {
   "cell_type": "code",
   "execution_count": 45,
   "id": "gentle-teens",
   "metadata": {},
   "outputs": [
    {
     "name": "stdout",
     "output_type": "stream",
     "text": [
      "Prediction: [('n02123159', 'tiger_cat', 0.343136579), ('n02123045', 'tabby', 0.286432), ('n02124075', 'Egyptian_cat', 0.127447426)]\n"
     ]
    }
   ],
   "source": [
    "inp = {\"inputs\": x.tolist()}\n",
    "# Edit the endpoint url to your served endpoint\n",
    "endpoint = 'https://r439872c6.studio.scaleoutsystems.com/v1/models/models:predict'\n",
    "res = requests.post(endpoint, json=inp, headers={\"Authorization\": \"Bearer \"+conf['STACKN_ACCESS_TOKEN']})\n",
    "print(\"Prediction:\", decode_predictions(np.array(res.json()['outputs']),top=3)[0])"
   ]
  },
  {
   "cell_type": "code",
   "execution_count": null,
   "id": "bound-indiana",
   "metadata": {},
   "outputs": [],
   "source": []
  }
 ],
 "metadata": {
  "kernelspec": {
   "display_name": "Python 3",
   "language": "python",
   "name": "python3"
  },
  "language_info": {
   "codemirror_mode": {
    "name": "ipython",
    "version": 3
   },
   "file_extension": ".py",
   "mimetype": "text/x-python",
   "name": "python",
   "nbconvert_exporter": "python",
   "pygments_lexer": "ipython3",
   "version": "3.8.8"
  }
 },
 "nbformat": 4,
 "nbformat_minor": 5
}
