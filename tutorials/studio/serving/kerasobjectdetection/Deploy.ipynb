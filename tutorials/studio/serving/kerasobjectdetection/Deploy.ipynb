{
 "cells": [
  {
   "cell_type": "code",
   "execution_count": 17,
   "id": "expanded-offense",
   "metadata": {},
   "outputs": [],
   "source": [
    "import tensorflow as tf\n",
    "import numpy as np\n",
    "from stackn import stackn"
   ]
  },
  {
   "cell_type": "markdown",
   "id": "protected-river",
   "metadata": {},
   "source": [
    "In this tutorial we will serve a number of pre-trained computer vision models from the Keras application library: https://keras.io/api/applications/#usage-examples-for-image-classification-models\n",
    "\n",
    "The steps to serve a Tensorflow/Keras model in STACKn are: \n",
    "\n",
    "    1. Save the model as a Tensorflow saved model object. \n",
    "    2. Make a tarball from the resulting models folder. \n",
    "    3. Create a STACKn object for the saved model. \n",
    "    4. From the STACKn UI, use the Tensorflow Serving application to serve the object. \n",
    "\n",
    "In this Notebook we use the STACKn API to accomplish steps 1-3. \n",
    "\n",
    "*! Note that the TF Serving application assumes that the folder containing the model is called 'models'*\n"
   ]
  },
  {
   "cell_type": "markdown",
   "id": "composite-berkeley",
   "metadata": {},
   "source": [
    "### ResNet50: "
   ]
  },
  {
   "cell_type": "code",
   "execution_count": 20,
   "id": "polar-bleeding",
   "metadata": {},
   "outputs": [
    {
     "name": "stdout",
     "output_type": "stream",
     "text": [
      "INFO:tensorflow:Assets written to: models/1/assets\n"
     ]
    },
    {
     "name": "stderr",
     "output_type": "stream",
     "text": [
      "10/19/2021 08:10:05 AM [builder_impl.py:774] Assets written to: models/1/assets\n"
     ]
    },
    {
     "name": "stdout",
     "output_type": "stream",
     "text": [
      "models/\n",
      "models/1/\n",
      "models/1/variables/\n",
      "models/1/variables/variables.data-00000-of-00001\n",
      "models/1/variables/variables.index\n",
      "models/1/saved_model.pb\n",
      "models/1/assets/\n",
      "Released model: resnet50, release_type: major\n"
     ]
    },
    {
     "data": {
      "text/plain": [
       "True"
      ]
     },
     "execution_count": 20,
     "metadata": {},
     "output_type": "execute_result"
    }
   ],
   "source": [
    "resnet50 = tf.keras.applications.ResNet50(weights='imagenet')\n",
    "tf.saved_model.save(resnet50, 'models/1/')\n",
    "!tar -czvf resnet50.tar.gz models\n",
    "stackn.create_object('resnet50', model_file='resnet50.tar.gz', release_type=\"major\")"
   ]
  },
  {
   "cell_type": "markdown",
   "id": "objective-pharmaceutical",
   "metadata": {},
   "source": [
    "### xception:"
   ]
  },
  {
   "cell_type": "code",
   "execution_count": 16,
   "id": "serious-albany",
   "metadata": {},
   "outputs": [
    {
     "name": "stdout",
     "output_type": "stream",
     "text": [
      "INFO:tensorflow:Assets written to: models/1/assets\n"
     ]
    },
    {
     "name": "stderr",
     "output_type": "stream",
     "text": [
      "10/18/2021 08:38:03 PM [builder_impl.py:774] Assets written to: models/1/assets\n"
     ]
    },
    {
     "name": "stdout",
     "output_type": "stream",
     "text": [
      "models/\n",
      "models/1/\n",
      "models/1/variables/\n",
      "models/1/variables/variables.data-00000-of-00001\n",
      "models/1/variables/variables.index\n",
      "models/1/saved_model.pb\n",
      "models/1/assets/\n",
      "Released model: xception, release_type: minor\n"
     ]
    },
    {
     "data": {
      "text/plain": [
       "True"
      ]
     },
     "execution_count": 16,
     "metadata": {},
     "output_type": "execute_result"
    }
   ],
   "source": [
    "xception = tf.keras.applications.Xception(\n",
    "    include_top=True,\n",
    "    weights=\"imagenet\",\n",
    "    input_tensor=None,\n",
    "    input_shape=None,\n",
    "    pooling=None,\n",
    "    classes=1000,\n",
    "    classifier_activation=\"softmax\",\n",
    ")\n",
    "tf.saved_model.save(xception, 'models/1/')\n",
    "!tar -czvf xception.tar.gz models\n",
    "stackn.create_object('xception', model_file='xception.tar.gz', release_type=\"major\")"
   ]
  },
  {
   "cell_type": "markdown",
   "id": "powerful-catch",
   "metadata": {},
   "source": [
    "### InceptionV3"
   ]
  },
  {
   "cell_type": "code",
   "execution_count": 15,
   "id": "black-moderator",
   "metadata": {},
   "outputs": [
    {
     "name": "stdout",
     "output_type": "stream",
     "text": [
      "INFO:tensorflow:Assets written to: models/1/assets\n"
     ]
    },
    {
     "name": "stderr",
     "output_type": "stream",
     "text": [
      "10/18/2021 08:29:43 PM [builder_impl.py:774] Assets written to: models/1/assets\n"
     ]
    },
    {
     "name": "stdout",
     "output_type": "stream",
     "text": [
      "models/\n",
      "models/1/\n",
      "models/1/variables/\n",
      "models/1/variables/variables.data-00000-of-00001\n",
      "models/1/variables/variables.index\n",
      "models/1/saved_model.pb\n",
      "models/1/assets/\n",
      "Released model: inceptionv3, release_type: minor\n"
     ]
    },
    {
     "data": {
      "text/plain": [
       "True"
      ]
     },
     "execution_count": 15,
     "metadata": {},
     "output_type": "execute_result"
    }
   ],
   "source": [
    "inceptionv3=tf.keras.applications.InceptionV3(\n",
    "    include_top=True,\n",
    "    weights=\"imagenet\",\n",
    "    input_tensor=None,\n",
    "    input_shape=None,\n",
    "    pooling=None,\n",
    "    classes=1000,\n",
    "    classifier_activation=\"softmax\",\n",
    ")\n",
    "tf.saved_model.save(inceptionv3, 'models/1/')\n",
    "!tar -czvf inceptionv3.tar.gz models\n",
    "stackn.create_object('inceptionv3', model_file='inceptionv3.tar.gz', release_type=\"major\")"
   ]
  },
  {
   "cell_type": "code",
   "execution_count": null,
   "id": "thorough-programming",
   "metadata": {},
   "outputs": [],
   "source": []
  }
 ],
 "metadata": {
  "kernelspec": {
   "display_name": "Python 3",
   "language": "python",
   "name": "python3"
  },
  "language_info": {
   "codemirror_mode": {
    "name": "ipython",
    "version": 3
   },
   "file_extension": ".py",
   "mimetype": "text/x-python",
   "name": "python",
   "nbconvert_exporter": "python",
   "pygments_lexer": "ipython3",
   "version": "3.8.8"
  }
 },
 "nbformat": 4,
 "nbformat_minor": 5
}
